{
 "cells": [
  {
   "cell_type": "code",
   "execution_count": 259,
   "metadata": {},
   "outputs": [
    {
     "name": "stderr",
     "output_type": "stream",
     "text": [
      "C:\\Users\\Tejas\\AppData\\Local\\Temp\\ipykernel_2904\\2064357604.py:6: DtypeWarning: Columns (0,1,2,3,4,5) have mixed types. Specify dtype option on import or set low_memory=False.\n",
      "  df = pd.read_csv(\"oh.csv\")\n"
     ]
    },
    {
     "data": {
      "text/html": [
       "<div>\n",
       "<style scoped>\n",
       "    .dataframe tbody tr th:only-of-type {\n",
       "        vertical-align: middle;\n",
       "    }\n",
       "\n",
       "    .dataframe tbody tr th {\n",
       "        vertical-align: top;\n",
       "    }\n",
       "\n",
       "    .dataframe thead th {\n",
       "        text-align: right;\n",
       "    }\n",
       "</style>\n",
       "<table border=\"1\" class=\"dataframe\">\n",
       "  <thead>\n",
       "    <tr style=\"text-align: right;\">\n",
       "      <th></th>\n",
       "      <th>CCN</th>\n",
       "      <th>Item</th>\n",
       "      <th>Location</th>\n",
       "      <th>SupplyDelay</th>\n",
       "      <th>MnYr1</th>\n",
       "      <th>MnYr2</th>\n",
       "      <th>MnYr3</th>\n",
       "      <th>MnYr4</th>\n",
       "      <th>MnYr5</th>\n",
       "      <th>MnYr6</th>\n",
       "      <th>...</th>\n",
       "      <th>MnYr27</th>\n",
       "      <th>MnYr28</th>\n",
       "      <th>MnYr29</th>\n",
       "      <th>MnYr30</th>\n",
       "      <th>MnYr31</th>\n",
       "      <th>MnYr32</th>\n",
       "      <th>MnYr33</th>\n",
       "      <th>MnYr34</th>\n",
       "      <th>MnYr35</th>\n",
       "      <th>MnYr36</th>\n",
       "    </tr>\n",
       "  </thead>\n",
       "  <tbody>\n",
       "    <tr>\n",
       "      <th>0</th>\n",
       "      <td>WHTN</td>\n",
       "      <td>1-1/2HHSJ-SS90960</td>\n",
       "      <td>FJ</td>\n",
       "      <td>8d</td>\n",
       "      <td>0</td>\n",
       "      <td>2</td>\n",
       "      <td>0.0</td>\n",
       "      <td>50.0</td>\n",
       "      <td>20.0</td>\n",
       "      <td>0.0</td>\n",
       "      <td>...</td>\n",
       "      <td>0.0</td>\n",
       "      <td>0.0</td>\n",
       "      <td>0.0</td>\n",
       "      <td>0.0</td>\n",
       "      <td>0.0</td>\n",
       "      <td>0.0</td>\n",
       "      <td>0.0</td>\n",
       "      <td>0.0</td>\n",
       "      <td>0.0</td>\n",
       "      <td>0.0</td>\n",
       "    </tr>\n",
       "    <tr>\n",
       "      <th>1</th>\n",
       "      <td>WHTN</td>\n",
       "      <td>1-729-AL</td>\n",
       "      <td>TC</td>\n",
       "      <td>15d</td>\n",
       "      <td>21</td>\n",
       "      <td>51</td>\n",
       "      <td>18.0</td>\n",
       "      <td>32.0</td>\n",
       "      <td>7.0</td>\n",
       "      <td>51.0</td>\n",
       "      <td>...</td>\n",
       "      <td>39.0</td>\n",
       "      <td>24.0</td>\n",
       "      <td>19.0</td>\n",
       "      <td>17.0</td>\n",
       "      <td>14.0</td>\n",
       "      <td>12.0</td>\n",
       "      <td>16.0</td>\n",
       "      <td>47.0</td>\n",
       "      <td>18.0</td>\n",
       "      <td>21.0</td>\n",
       "    </tr>\n",
       "    <tr>\n",
       "      <th>2</th>\n",
       "      <td>WHTN</td>\n",
       "      <td>1/2BSJ-SS120120</td>\n",
       "      <td>FJ</td>\n",
       "      <td>25d</td>\n",
       "      <td>0</td>\n",
       "      <td>0</td>\n",
       "      <td>0.0</td>\n",
       "      <td>0.0</td>\n",
       "      <td>0.0</td>\n",
       "      <td>0.0</td>\n",
       "      <td>...</td>\n",
       "      <td>0.0</td>\n",
       "      <td>12.0</td>\n",
       "      <td>0.0</td>\n",
       "      <td>0.0</td>\n",
       "      <td>0.0</td>\n",
       "      <td>0.0</td>\n",
       "      <td>0.0</td>\n",
       "      <td>0.0</td>\n",
       "      <td>0.0</td>\n",
       "      <td>6.0</td>\n",
       "    </tr>\n",
       "    <tr>\n",
       "      <th>3</th>\n",
       "      <td>WHTN</td>\n",
       "      <td>1/2BSJ-SS120164</td>\n",
       "      <td>FJ</td>\n",
       "      <td>25d</td>\n",
       "      <td>0</td>\n",
       "      <td>0</td>\n",
       "      <td>8.0</td>\n",
       "      <td>10.0</td>\n",
       "      <td>0.0</td>\n",
       "      <td>0.0</td>\n",
       "      <td>...</td>\n",
       "      <td>7.0</td>\n",
       "      <td>0.0</td>\n",
       "      <td>0.0</td>\n",
       "      <td>0.0</td>\n",
       "      <td>0.0</td>\n",
       "      <td>7.0</td>\n",
       "      <td>23.0</td>\n",
       "      <td>0.0</td>\n",
       "      <td>0.0</td>\n",
       "      <td>0.0</td>\n",
       "    </tr>\n",
       "    <tr>\n",
       "      <th>4</th>\n",
       "      <td>WHTN</td>\n",
       "      <td>1/2BSJ-SS180120</td>\n",
       "      <td>FJ</td>\n",
       "      <td>25d</td>\n",
       "      <td>0</td>\n",
       "      <td>0</td>\n",
       "      <td>0.0</td>\n",
       "      <td>0.0</td>\n",
       "      <td>0.0</td>\n",
       "      <td>0.0</td>\n",
       "      <td>...</td>\n",
       "      <td>0.0</td>\n",
       "      <td>0.0</td>\n",
       "      <td>0.0</td>\n",
       "      <td>0.0</td>\n",
       "      <td>0.0</td>\n",
       "      <td>0.0</td>\n",
       "      <td>0.0</td>\n",
       "      <td>0.0</td>\n",
       "      <td>0.0</td>\n",
       "      <td>0.0</td>\n",
       "    </tr>\n",
       "  </tbody>\n",
       "</table>\n",
       "<p>5 rows × 40 columns</p>\n",
       "</div>"
      ],
      "text/plain": [
       "    CCN               Item Location SupplyDelay MnYr1 MnYr2  MnYr3  MnYr4  \\\n",
       "0  WHTN  1-1/2HHSJ-SS90960       FJ          8d     0     2    0.0   50.0   \n",
       "1  WHTN           1-729-AL       TC         15d    21    51   18.0   32.0   \n",
       "2  WHTN    1/2BSJ-SS120120       FJ         25d     0     0    0.0    0.0   \n",
       "3  WHTN    1/2BSJ-SS120164       FJ         25d     0     0    8.0   10.0   \n",
       "4  WHTN    1/2BSJ-SS180120       FJ         25d     0     0    0.0    0.0   \n",
       "\n",
       "   MnYr5  MnYr6  ...  MnYr27  MnYr28  MnYr29  MnYr30  MnYr31  MnYr32  MnYr33  \\\n",
       "0   20.0    0.0  ...     0.0     0.0     0.0     0.0     0.0     0.0     0.0   \n",
       "1    7.0   51.0  ...    39.0    24.0    19.0    17.0    14.0    12.0    16.0   \n",
       "2    0.0    0.0  ...     0.0    12.0     0.0     0.0     0.0     0.0     0.0   \n",
       "3    0.0    0.0  ...     7.0     0.0     0.0     0.0     0.0     7.0    23.0   \n",
       "4    0.0    0.0  ...     0.0     0.0     0.0     0.0     0.0     0.0     0.0   \n",
       "\n",
       "   MnYr34  MnYr35  MnYr36  \n",
       "0     0.0     0.0     0.0  \n",
       "1    47.0    18.0    21.0  \n",
       "2     0.0     0.0     6.0  \n",
       "3     0.0     0.0     0.0  \n",
       "4     0.0     0.0     0.0  \n",
       "\n",
       "[5 rows x 40 columns]"
      ]
     },
     "execution_count": 259,
     "metadata": {},
     "output_type": "execute_result"
    }
   ],
   "source": [
    "# CLEAN UP\n",
    "import pandas as pd\n",
    "import matplotlib.pyplot as plt\n",
    "%matplotlib inline\n",
    "\n",
    "df = pd.read_csv(\"oh.csv\")\n",
    "\n",
    "df = df.rename(columns={\n",
    "        \"ItemNbr\" : \"Item\",\n",
    "        \"Horizon\" : \"SupplyDelay\",\n",
    "        \"FlwlineCode\" : \"Location\",\n",
    "})\n",
    "df = df.drop([\"#DIV/0!\", \"Unnamed: 41\"], axis=1)\n",
    "df = df[:3549]\n",
    "df.head()"
   ]
  },
  {
   "cell_type": "code",
   "execution_count": 260,
   "metadata": {},
   "outputs": [],
   "source": [
    "fetchRowDataFrom = 25 # row in the CSV we will fetch data from\n",
    "\n",
    "months = list(range(1, 37)) # months 1 => 36\n",
    "returnData = df.values.astype(str).tolist()[fetchRowDataFrom-2]\n",
    "supplyRate = returnData[3]\n",
    "saleValues = [(float(x)) for x in returnData[4:]]\n",
    "\n",
    "# plt.plot(months, saleValues)\n",
    "# plt.show()\n",
    "\n",
    "new_df = pd.DataFrame({\n",
    "    'Demand': saleValues,\n",
    "})\n"
   ]
  },
  {
   "cell_type": "code",
   "execution_count": 261,
   "metadata": {},
   "outputs": [],
   "source": [
    "from statsmodels.tsa.stattools import adfuller"
   ]
  },
  {
   "cell_type": "code",
   "execution_count": 262,
   "metadata": {},
   "outputs": [
    {
     "data": {
      "text/plain": [
       "(-3.855789118898924,\n",
       " 0.002385411823255866,\n",
       " 6,\n",
       " 29,\n",
       " {'1%': -3.6790595944893187,\n",
       "  '5%': -2.9678817237279103,\n",
       "  '10%': -2.6231583472057074},\n",
       " 378.61358025484327)"
      ]
     },
     "execution_count": 262,
     "metadata": {},
     "output_type": "execute_result"
    }
   ],
   "source": [
    "test_results = adfuller(saleValues)\n",
    "test_results"
   ]
  },
  {
   "cell_type": "code",
   "execution_count": 263,
   "metadata": {},
   "outputs": [],
   "source": [
    "def adfuller_test(sales):\n",
    "    result=adfuller(sales)\n",
    "    labels = ['ADF Test Statistic','p-value','#Lags Used','Number of Observations Used']\n",
    "    for value,label in zip(result,labels):\n",
    "        print(label+' : '+str(value) )\n",
    "    if result[1] <= 0.05:\n",
    "        print(\"strong evidence against the null hypothesis(Ho), reject the null hypothesis. Data has no unit root and is stationary\")\n",
    "    else:\n",
    "        print(\"weak evidence against null hypothesis, time series has a unit root, indicating it is non-stationary \")\n"
   ]
  },
  {
   "cell_type": "code",
   "execution_count": 264,
   "metadata": {},
   "outputs": [
    {
     "name": "stdout",
     "output_type": "stream",
     "text": [
      "ADF Test Statistic : -3.855789118898924\n",
      "p-value : 0.002385411823255866\n",
      "#Lags Used : 6\n",
      "Number of Observations Used : 29\n",
      "strong evidence against the null hypothesis(Ho), reject the null hypothesis. Data has no unit root and is stationary\n"
     ]
    }
   ],
   "source": [
    "adfuller_test(saleValues)"
   ]
  },
  {
   "cell_type": "code",
   "execution_count": 297,
   "metadata": {},
   "outputs": [
    {
     "name": "stderr",
     "output_type": "stream",
     "text": [
      "c:\\Users\\Tejas\\AppData\\Local\\Programs\\Python\\Python311\\Lib\\site-packages\\statsmodels\\tsa\\statespace\\sarimax.py:866: UserWarning: Too few observations to estimate starting parameters for ARMA and trend. All parameters except for variances will be set to zeros.\n",
      "  warn('Too few observations to estimate starting parameters%s.'\n",
      "c:\\Users\\Tejas\\AppData\\Local\\Programs\\Python\\Python311\\Lib\\site-packages\\statsmodels\\tsa\\statespace\\sarimax.py:866: UserWarning: Too few observations to estimate starting parameters for seasonal ARMA. All parameters except for variances will be set to zeros.\n",
      "  warn('Too few observations to estimate starting parameters%s.'\n"
     ]
    },
    {
     "data": {
      "text/plain": [
       "36     145.0\n",
       "37     645.0\n",
       "38    1530.0\n",
       "39     397.0\n",
       "40     491.0\n",
       "41     455.0\n",
       "42     748.0\n",
       "43     693.0\n",
       "44     543.0\n",
       "45     370.0\n",
       "46     387.0\n",
       "47     280.0\n",
       "48     454.0\n",
       "49     255.0\n",
       "50    1517.0\n",
       "51     395.0\n",
       "52     345.0\n",
       "53    1510.0\n",
       "54     765.0\n",
       "55     851.0\n",
       "56    1295.0\n",
       "57     323.0\n",
       "58     304.0\n",
       "59     208.0\n",
       "60     170.0\n",
       "61     435.0\n",
       "62     370.0\n",
       "63     355.0\n",
       "64    1195.0\n",
       "65    1814.0\n",
       "66     805.0\n",
       "67     832.0\n",
       "68     812.0\n",
       "69     318.0\n",
       "70     340.0\n",
       "71     290.0\n",
       "72     290.0\n",
       "Name: predicted_mean, dtype: float64"
      ]
     },
     "execution_count": 297,
     "metadata": {},
     "output_type": "execute_result"
    },
    {
     "data": {
      "image/png": "[encoded data removed]",
      "text/plain": [
       "<Figure size 640x480 with 1 Axes>"
      ]
     },
     "metadata": {},
     "output_type": "display_data"
    }
   ],
   "source": [
    "import statsmodels.api as sm\n",
    "model = sm.tsa.statespace.SARIMAX(new_df['Demand'], order=(1,1,1), seasonal_order=(1,1,1,36))\n",
    "results = model.fit()\n",
    "\n",
    "new_df['Forecast'] = results.predict(start=14, end=72, dynamic=False)\n",
    "new_df[['Demand', 'Forecast']].plot() \n",
    "\n",
    "results.predict(start=36, end=72, dynamic=False)"
   ]
  }
 ],
 "metadata": {
  "kernelspec": {
   "display_name": "Python 3",
   "language": "python",
   "name": "python3"
  },
  "language_info": {
   "codemirror_mode": {
    "name": "ipython",
    "version": 3
   },
   "file_extension": ".py",
   "mimetype": "text/x-python",
   "name": "python",
   "nbconvert_exporter": "python",
   "pygments_lexer": "ipython3",
   "version": "3.11.4"
  }
 },
 "nbformat": 4,
 "nbformat_minor": 2
}
